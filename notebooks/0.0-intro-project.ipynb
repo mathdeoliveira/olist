{
 "cells": [
  {
   "cell_type": "markdown",
   "id": "824fc494-c8f9-4756-a2c9-f8aff2f247c0",
   "metadata": {},
   "source": [
    "# Olist - Clustering high value customer"
   ]
  },
  {
   "cell_type": "markdown",
   "id": "883f7158-87ed-44f3-8f33-e0968205de04",
   "metadata": {},
   "source": [
    "## 0.0. Planning solution"
   ]
  },
  {
   "cell_type": "markdown",
   "id": "fbe352bf-b24f-407e-b0bd-70f21eacf300",
   "metadata": {},
   "source": [
    "### Input"
   ]
  },
  {
   "cell_type": "markdown",
   "id": "965853db-3ed3-48d3-8b51-cef39eaf6c20",
   "metadata": {},
   "source": [
    "#### Business problem\n",
    "\n",
    "1. Identificar quais são os clientes mais valiosos para a empresa\n",
    "2. "
   ]
  },
  {
   "cell_type": "code",
   "execution_count": null,
   "id": "14ef9e27-53fc-433f-a3b4-1b38e80b6981",
   "metadata": {},
   "outputs": [],
   "source": []
  }
 ],
 "metadata": {
  "kernelspec": {
   "display_name": "Python 3 (ipykernel)",
   "language": "python",
   "name": "python3"
  },
  "language_info": {
   "codemirror_mode": {
    "name": "ipython",
    "version": 3
   },
   "file_extension": ".py",
   "mimetype": "text/x-python",
   "name": "python",
   "nbconvert_exporter": "python",
   "pygments_lexer": "ipython3",
   "version": "3.9.7"
  }
 },
 "nbformat": 4,
 "nbformat_minor": 5
}
